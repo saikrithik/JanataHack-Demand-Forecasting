{
  "nbformat": 4,
  "nbformat_minor": 0,
  "metadata": {
    "colab": {
      "name": "CNNLSTM Demand Forecast",
      "provenance": [],
      "collapsed_sections": []
    },
    "kernelspec": {
      "name": "python3",
      "display_name": "Python 3"
    },
    "accelerator": "GPU"
  },
  "cells": [
    {
      "cell_type": "code",
      "metadata": {
        "id": "EL4Fkg_2k80o",
        "colab_type": "code",
        "colab": {
          "base_uri": "https://localhost:8080/",
          "height": 34
        },
        "outputId": "a268b4df-ac9f-43c0-ff96-54fc5854caca"
      },
      "source": [
        "# univariate cnn lstm example\n",
        "from numpy import array\n",
        "from keras.models import Sequential\n",
        "from keras.layers import LSTM\n",
        "from keras.layers import Dense\n",
        "from keras.layers import Flatten\n",
        "from keras.layers import TimeDistributed\n",
        "from keras.layers.convolutional import Conv1D\n",
        "from keras.layers.convolutional import MaxPooling1D\n",
        "import pandas as pd\n",
        "import numpy as np"
      ],
      "execution_count": 1,
      "outputs": [
        {
          "output_type": "stream",
          "text": [
            "Using TensorFlow backend.\n"
          ],
          "name": "stderr"
        }
      ]
    },
    {
      "cell_type": "markdown",
      "metadata": {
        "id": "xJ_90bAvbQ8U",
        "colab_type": "text"
      },
      "source": [
        "# Tried X input 1 output method and iterated in a for loop to get the predictions"
      ]
    },
    {
      "cell_type": "code",
      "metadata": {
        "id": "xC9nFPpRk_ED",
        "colab_type": "code",
        "colab": {}
      },
      "source": [
        "# split a univariate sequence into samples\n",
        "def split_sequence(sequence, n_steps):\n",
        "\tX, y = list(), list()\n",
        "\tfor i in range(len(sequence)):\n",
        "\t\t# find the end of this pattern\n",
        "\t\tend_ix = i + n_steps\n",
        "\t\t# check if we are beyond the sequence\n",
        "\t\tif end_ix > len(sequence)-1:\n",
        "\t\t\tbreak\n",
        "\t\t# gather input and output parts of the pattern\n",
        "\t\tseq_x, seq_y = sequence[i:end_ix], sequence[end_ix]\n",
        "\t\tX.append(seq_x)\n",
        "\t\ty.append(seq_y)\n",
        "\treturn array(X), array(y)"
      ],
      "execution_count": null,
      "outputs": []
    },
    {
      "cell_type": "code",
      "metadata": {
        "id": "jaNT1tJ6meEJ",
        "colab_type": "code",
        "colab": {}
      },
      "source": [
        "raw_seq = pd.read_csv(\"/content/drive/My Drive/Colab Notebooks/JanathaHack/Demand Forecasting/train.csv\")\n",
        "raw_seq = raw_seq[\"units_sold\"].values.tolist()\n",
        "submit = pd.read_csv(\"/content/drive/My Drive/Colab Notebooks/JanathaHack/Demand Forecasting/sample_submission.csv\")"
      ],
      "execution_count": null,
      "outputs": []
    },
    {
      "cell_type": "code",
      "metadata": {
        "id": "EfPMNt6pm5e9",
        "colab_type": "code",
        "colab": {}
      },
      "source": [
        "n_steps = 2310\n",
        "X, y = split_sequence(raw_seq, n_steps)\n",
        "n_features = 1\n",
        "n_seq = 2\n",
        "n_steps = int(n_steps/2)\n",
        "X = X.reshape((X.shape[0], n_seq, n_steps, n_features))"
      ],
      "execution_count": null,
      "outputs": []
    },
    {
      "cell_type": "code",
      "metadata": {
        "id": "vIw87ADJoFWA",
        "colab_type": "code",
        "colab": {}
      },
      "source": [
        "0-2310 (2311)\n",
        "1-2311 (2312) "
      ],
      "execution_count": null,
      "outputs": []
    },
    {
      "cell_type": "code",
      "metadata": {
        "id": "CzNFlQQ5e0ix",
        "colab_type": "code",
        "colab": {
          "base_uri": "https://localhost:8080/",
          "height": 323
        },
        "outputId": "56cdfc36-0042-488d-b8ab-838360077ea2"
      },
      "source": [
        "# reshape from [samples, timesteps] into [samples, subsequences, timesteps, features]\n",
        "\n",
        "\n",
        "# define model\n",
        "model = Sequential()\n",
        "model.add(TimeDistributed(Conv1D(filters=128, kernel_size=1, activation='relu'), input_shape=(None, n_steps, n_features)))\n",
        "model.add(TimeDistributed(MaxPooling1D(pool_size=2)))\n",
        "model.add(TimeDistributed(Flatten()))\n",
        "model.add(LSTM(150, activation='relu'))\n",
        "model.add(Dense(1))\n",
        "model.compile(optimizer='adam', loss='mse')\n",
        "model.summary()"
      ],
      "execution_count": null,
      "outputs": [
        {
          "output_type": "stream",
          "text": [
            "Model: \"sequential_3\"\n",
            "_________________________________________________________________\n",
            "Layer (type)                 Output Shape              Param #   \n",
            "=================================================================\n",
            "time_distributed_7 (TimeDist (None, None, 1155, 128)   256       \n",
            "_________________________________________________________________\n",
            "time_distributed_8 (TimeDist (None, None, 577, 128)    0         \n",
            "_________________________________________________________________\n",
            "time_distributed_9 (TimeDist (None, None, 73856)       0         \n",
            "_________________________________________________________________\n",
            "lstm_3 (LSTM)                (None, 150)               44404200  \n",
            "_________________________________________________________________\n",
            "dense_3 (Dense)              (None, 1)                 151       \n",
            "=================================================================\n",
            "Total params: 44,404,607\n",
            "Trainable params: 44,404,607\n",
            "Non-trainable params: 0\n",
            "_________________________________________________________________\n"
          ],
          "name": "stdout"
        }
      ]
    },
    {
      "cell_type": "code",
      "metadata": {
        "id": "mryJbBNYf65A",
        "colab_type": "code",
        "colab": {
          "base_uri": "https://localhost:8080/",
          "height": 102
        },
        "outputId": "9409aafc-2259-4543-c5d8-a374f3e2dccb"
      },
      "source": [
        "# fit model\n",
        "model.fit(X, y, epochs=2, verbose=1)"
      ],
      "execution_count": null,
      "outputs": [
        {
          "output_type": "stream",
          "text": [
            "Epoch 1/2\n",
            "147840/147840 [==============================] - 349s 2ms/step - loss: 4986.5851\n",
            "Epoch 2/2\n",
            "147840/147840 [==============================] - 349s 2ms/step - loss: 2678.7172\n"
          ],
          "name": "stdout"
        },
        {
          "output_type": "execute_result",
          "data": {
            "text/plain": [
              "<keras.callbacks.callbacks.History at 0x7f1278370be0>"
            ]
          },
          "metadata": {
            "tags": []
          },
          "execution_count": 19
        }
      ]
    },
    {
      "cell_type": "code",
      "metadata": {
        "id": "bg2UUps12hdP",
        "colab_type": "code",
        "colab": {}
      },
      "source": [
        "2728.9807 epoch 2"
      ],
      "execution_count": null,
      "outputs": []
    },
    {
      "cell_type": "code",
      "metadata": {
        "id": "vTNYMU8vg0LG",
        "colab_type": "code",
        "colab": {}
      },
      "source": [
        "import numpy as np\n",
        "x_input=np.array(raw_seq[-2310:])\n",
        "x_input = x_input.reshape((1, n_seq, n_steps, n_features))\n",
        "predictions=[]\n",
        "next_preds=13860\n",
        "for _ in range(next_preds):\n",
        "  pred=model.predict(x_input)\n",
        "  predictions.append(pred)\n",
        "  # print(x_input,\"and\",pred)\n",
        "  x_input = np.append(x_input,pred)\n",
        "  x_input = x_input[-2310:]\n",
        "  x_input = x_input.reshape((1, n_seq, n_steps, n_features))"
      ],
      "execution_count": null,
      "outputs": []
    },
    {
      "cell_type": "code",
      "metadata": {
        "id": "Yl7rtVZBp6hP",
        "colab_type": "code",
        "colab": {}
      },
      "source": [
        "finalpreds = np.array(predictions).reshape(-1,1)"
      ],
      "execution_count": null,
      "outputs": []
    },
    {
      "cell_type": "code",
      "metadata": {
        "id": "vXJUdY_1tWxI",
        "colab_type": "code",
        "colab": {}
      },
      "source": [
        "submit[\"units_sold\"] = finalpreds\n"
      ],
      "execution_count": null,
      "outputs": []
    },
    {
      "cell_type": "code",
      "metadata": {
        "id": "GavroetstspF",
        "colab_type": "code",
        "colab": {
          "base_uri": "https://localhost:8080/",
          "height": 419
        },
        "outputId": "3ef54e4e-8069-433b-cf84-379f758ea409"
      },
      "source": [
        "submit"
      ],
      "execution_count": null,
      "outputs": [
        {
          "output_type": "execute_result",
          "data": {
            "text/html": [
              "<div>\n",
              "<style scoped>\n",
              "    .dataframe tbody tr th:only-of-type {\n",
              "        vertical-align: middle;\n",
              "    }\n",
              "\n",
              "    .dataframe tbody tr th {\n",
              "        vertical-align: top;\n",
              "    }\n",
              "\n",
              "    .dataframe thead th {\n",
              "        text-align: right;\n",
              "    }\n",
              "</style>\n",
              "<table border=\"1\" class=\"dataframe\">\n",
              "  <thead>\n",
              "    <tr style=\"text-align: right;\">\n",
              "      <th></th>\n",
              "      <th>record_ID</th>\n",
              "      <th>units_sold</th>\n",
              "    </tr>\n",
              "  </thead>\n",
              "  <tbody>\n",
              "    <tr>\n",
              "      <th>0</th>\n",
              "      <td>212645</td>\n",
              "      <td>52.138020</td>\n",
              "    </tr>\n",
              "    <tr>\n",
              "      <th>1</th>\n",
              "      <td>212646</td>\n",
              "      <td>65.255440</td>\n",
              "    </tr>\n",
              "    <tr>\n",
              "      <th>2</th>\n",
              "      <td>212647</td>\n",
              "      <td>45.972900</td>\n",
              "    </tr>\n",
              "    <tr>\n",
              "      <th>3</th>\n",
              "      <td>212648</td>\n",
              "      <td>52.067749</td>\n",
              "    </tr>\n",
              "    <tr>\n",
              "      <th>4</th>\n",
              "      <td>212649</td>\n",
              "      <td>47.271549</td>\n",
              "    </tr>\n",
              "    <tr>\n",
              "      <th>...</th>\n",
              "      <td>...</td>\n",
              "      <td>...</td>\n",
              "    </tr>\n",
              "    <tr>\n",
              "      <th>13855</th>\n",
              "      <td>232281</td>\n",
              "      <td>30.510632</td>\n",
              "    </tr>\n",
              "    <tr>\n",
              "      <th>13856</th>\n",
              "      <td>232282</td>\n",
              "      <td>30.513475</td>\n",
              "    </tr>\n",
              "    <tr>\n",
              "      <th>13857</th>\n",
              "      <td>232285</td>\n",
              "      <td>30.517057</td>\n",
              "    </tr>\n",
              "    <tr>\n",
              "      <th>13858</th>\n",
              "      <td>232286</td>\n",
              "      <td>30.521082</td>\n",
              "    </tr>\n",
              "    <tr>\n",
              "      <th>13859</th>\n",
              "      <td>232287</td>\n",
              "      <td>30.525431</td>\n",
              "    </tr>\n",
              "  </tbody>\n",
              "</table>\n",
              "<p>13860 rows × 2 columns</p>\n",
              "</div>"
            ],
            "text/plain": [
              "       record_ID  units_sold\n",
              "0         212645   52.138020\n",
              "1         212646   65.255440\n",
              "2         212647   45.972900\n",
              "3         212648   52.067749\n",
              "4         212649   47.271549\n",
              "...          ...         ...\n",
              "13855     232281   30.510632\n",
              "13856     232282   30.513475\n",
              "13857     232285   30.517057\n",
              "13858     232286   30.521082\n",
              "13859     232287   30.525431\n",
              "\n",
              "[13860 rows x 2 columns]"
            ]
          },
          "metadata": {
            "tags": []
          },
          "execution_count": 32
        }
      ]
    },
    {
      "cell_type": "code",
      "metadata": {
        "id": "yzFHgdI4s7F5",
        "colab_type": "code",
        "colab": {}
      },
      "source": [
        "submit.to_csv(\"resubmit.csv\",index=False)"
      ],
      "execution_count": null,
      "outputs": []
    },
    {
      "cell_type": "code",
      "metadata": {
        "id": "vbG7aLMQi-AT",
        "colab_type": "code",
        "colab": {}
      },
      "source": [
        "x_input=np.array(raw_seq[-1156:])\n",
        "x_input = x_input.reshape((1, n_seq, n_steps, n_features))\n",
        "pred=model.predict(x_input)"
      ],
      "execution_count": null,
      "outputs": []
    },
    {
      "cell_type": "code",
      "metadata": {
        "id": "NMysrr0iphKC",
        "colab_type": "code",
        "colab": {
          "base_uri": "https://localhost:8080/",
          "height": 34
        },
        "outputId": "c9bd5844-1ce7-40bc-ffa8-00b0ca1168fa"
      },
      "source": [
        "pred"
      ],
      "execution_count": null,
      "outputs": [
        {
          "output_type": "execute_result",
          "data": {
            "text/plain": [
              "array([[52.13802]], dtype=float32)"
            ]
          },
          "metadata": {
            "tags": []
          },
          "execution_count": 14
        }
      ]
    },
    {
      "cell_type": "code",
      "metadata": {
        "id": "e5qJ8JDHi-GL",
        "colab_type": "code",
        "colab": {
          "base_uri": "https://localhost:8080/",
          "height": 51
        },
        "outputId": "4a01650b-ec88-476a-c42d-e9bd4fdc74a1"
      },
      "source": [
        "np.array(predictions).reshape(-1,1).reshape(1,-1)"
      ],
      "execution_count": null,
      "outputs": [
        {
          "output_type": "execute_result",
          "data": {
            "text/plain": [
              "array([[52.13802 , 65.25544 , 45.9729  , ..., 30.517057, 30.521082,\n",
              "        30.52543 ]], dtype=float32)"
            ]
          },
          "metadata": {
            "tags": []
          },
          "execution_count": 20
        }
      ]
    },
    {
      "cell_type": "code",
      "metadata": {
        "id": "L_dyGQsJi-LZ",
        "colab_type": "code",
        "colab": {}
      },
      "source": [
        " "
      ],
      "execution_count": null,
      "outputs": []
    },
    {
      "cell_type": "code",
      "metadata": {
        "id": "GX4u6AOXYLSq",
        "colab_type": "code",
        "colab": {}
      },
      "source": [
        ""
      ],
      "execution_count": null,
      "outputs": []
    },
    {
      "cell_type": "code",
      "metadata": {
        "id": "sp-g9xoAYLP1",
        "colab_type": "code",
        "colab": {}
      },
      "source": [
        ""
      ],
      "execution_count": null,
      "outputs": []
    },
    {
      "cell_type": "code",
      "metadata": {
        "id": "TqrG16mXYLNP",
        "colab_type": "code",
        "colab": {}
      },
      "source": [
        ""
      ],
      "execution_count": null,
      "outputs": []
    },
    {
      "cell_type": "code",
      "metadata": {
        "id": "pUspOIaxYLJk",
        "colab_type": "code",
        "colab": {}
      },
      "source": [
        ""
      ],
      "execution_count": null,
      "outputs": []
    },
    {
      "cell_type": "code",
      "metadata": {
        "id": "j1m_ao90YLEz",
        "colab_type": "code",
        "colab": {}
      },
      "source": [
        ""
      ],
      "execution_count": null,
      "outputs": []
    },
    {
      "cell_type": "markdown",
      "metadata": {
        "id": "DQ6zNH3IZlkY",
        "colab_type": "text"
      },
      "source": [
        "# Did not implement this... but just to give an idea of how m inputs n outputs looks like."
      ]
    },
    {
      "cell_type": "code",
      "metadata": {
        "id": "RsFXzt2Wi-Tk",
        "colab_type": "code",
        "colab": {}
      },
      "source": [
        "from numpy.random import seed\n",
        "seed(1)\n",
        "import tensorflow\n",
        "tensorflow.random.set_seed(2)\n",
        "# univariate cnn lstm example\n",
        "from numpy import array\n",
        "import numpy as np\n",
        "import tensorflow as tf\n",
        "from keras.models import Sequential\n",
        "from keras.layers import LSTM\n",
        "from keras.layers import Dense,Bidirectional\n",
        "from keras.layers import Flatten,Dropout\n",
        "from keras.layers import TimeDistributed\n",
        "from keras.layers.convolutional import Conv1D\n",
        "from keras.layers.convolutional import MaxPooling1D\n",
        "\n",
        "# split a univariate sequence into samples\n",
        "def split_sequence(sequence, n_steps_in, n_steps_out):\n",
        "\tX, y = list(), list()\n",
        "\tfor i in range(len(sequence)):\n",
        "\t\t# find the end of this pattern\n",
        "\t\tend_ix = i + n_steps_in\n",
        "\t\tout_end_ix = end_ix + n_steps_out\n",
        "\t\t# check if we are beyond the sequence\n",
        "\t\tif out_end_ix > len(sequence):\n",
        "\t\t\tbreak\n",
        "\t\t# gather input and output parts of the pattern\n",
        "\t\tseq_x, seq_y = sequence[i:end_ix], sequence[end_ix:out_end_ix]\n",
        "\t\tX.append(seq_x)\n",
        "\t\ty.append(seq_y)\n",
        "\treturn array(X), array(y)\n",
        "\n",
        "# define input sequence\n",
        "import pandas as pd\n",
        "raw_seq = pd.read_csv(\"/content/drive/My Drive/Colab Notebooks/JanathaHack/Demand Forecasting/train.csv\")\n",
        "raw_seq = raw_seq[\"units_sold\"].values.tolist()\n",
        "flat_list = raw_seq.copy()"
      ],
      "execution_count": 6,
      "outputs": []
    },
    {
      "cell_type": "code",
      "metadata": {
        "id": "pE_iFwcOYPoW",
        "colab_type": "code",
        "colab": {}
      },
      "source": [
        "#-------------------\n",
        "#TrainTestSplit\n",
        "split_time=1150\n",
        "x_train = flat_list[:split_time]\n",
        "x_valid = flat_list[split_time:]\n",
        "x_valid=np.array(x_valid)"
      ],
      "execution_count": 21,
      "outputs": []
    },
    {
      "cell_type": "code",
      "metadata": {
        "id": "fH780rKPYSoD",
        "colab_type": "code",
        "colab": {}
      },
      "source": [
        "# choose a number of time steps\n",
        "n_steps_in, n_steps_out = 1150, 1150\n",
        "# split into samples\n",
        "X, y = split_sequence(flat_list, n_steps_in, n_steps_out )"
      ],
      "execution_count": 10,
      "outputs": []
    },
    {
      "cell_type": "code",
      "metadata": {
        "id": "B2JPFiRZYji4",
        "colab_type": "code",
        "colab": {
          "base_uri": "https://localhost:8080/",
          "height": 136
        },
        "outputId": "460ab6d3-1de3-4a53-fc75-043bc56e4c30"
      },
      "source": [
        "X"
      ],
      "execution_count": 11,
      "outputs": [
        {
          "output_type": "execute_result",
          "data": {
            "text/plain": [
              "array([[ 20,  28,  19, ...,  40,  29,  17],\n",
              "       [ 28,  19,  44, ...,  29,  17,  52],\n",
              "       [ 19,  44,  52, ...,  17,  52,  69],\n",
              "       ...,\n",
              "       [ 15, 172,  61, ...,  10,  18,  22],\n",
              "       [172,  61,  39, ...,  18,  22,  38],\n",
              "       [ 61,  39,  75, ...,  22,  38,  25]])"
            ]
          },
          "metadata": {
            "tags": []
          },
          "execution_count": 11
        }
      ]
    },
    {
      "cell_type": "code",
      "metadata": {
        "id": "46LPo9lnYmgD",
        "colab_type": "code",
        "colab": {
          "base_uri": "https://localhost:8080/",
          "height": 136
        },
        "outputId": "94b2e135-ba74-42ac-ee7d-a2c440cee9cd"
      },
      "source": [
        "y"
      ],
      "execution_count": 12,
      "outputs": [
        {
          "output_type": "execute_result",
          "data": {
            "text/plain": [
              "array([[52, 69, 22, ..., 15, 43, 66],\n",
              "       [69, 22,  7, ..., 43, 66, 28],\n",
              "       [22,  7,  4, ..., 66, 28, 66],\n",
              "       ...,\n",
              "       [38, 25, 15, ..., 38, 30, 31],\n",
              "       [25, 15, 35, ..., 30, 31, 12],\n",
              "       [15, 35, 30, ..., 31, 12, 15]])"
            ]
          },
          "metadata": {
            "tags": []
          },
          "execution_count": 12
        }
      ]
    },
    {
      "cell_type": "code",
      "metadata": {
        "id": "PwMNytOJZEP7",
        "colab_type": "code",
        "colab": {
          "base_uri": "https://localhost:8080/",
          "height": 34
        },
        "outputId": "a55c6923-e186-400e-b51d-839a8ae1ed93"
      },
      "source": [
        "X.shape,y.shape"
      ],
      "execution_count": 14,
      "outputs": [
        {
          "output_type": "execute_result",
          "data": {
            "text/plain": [
              "((147851, 1150), (147851, 1150))"
            ]
          },
          "metadata": {
            "tags": []
          },
          "execution_count": 14
        }
      ]
    },
    {
      "cell_type": "code",
      "metadata": {
        "id": "1vaB0uRuYVbA",
        "colab_type": "code",
        "colab": {
          "base_uri": "https://localhost:8080/",
          "height": 68
        },
        "outputId": "62679ad8-a0da-4596-ea43-d142004f4862"
      },
      "source": [
        "# reshape from [samples, timesteps] into [samples, subsequences, timesteps, features]\n",
        "n_features = 1\n",
        "n_seq =1\n",
        "# n_steps = int(n_steps/2)\n",
        "print(X[0])\n",
        "print(X.shape)\n",
        "\n",
        "X = X.reshape((X.shape[0], n_seq, X.shape[1], n_features))\n",
        "print(X.shape)"
      ],
      "execution_count": 15,
      "outputs": [
        {
          "output_type": "stream",
          "text": [
            "[20 28 19 ... 40 29 17]\n",
            "(147851, 1150)\n",
            "(147851, 1, 1150, 1)\n"
          ],
          "name": "stdout"
        }
      ]
    },
    {
      "cell_type": "code",
      "metadata": {
        "id": "8sFO31uYi-Xe",
        "colab_type": "code",
        "colab": {
          "base_uri": "https://localhost:8080/",
          "height": 442
        },
        "outputId": "88484c3d-6fbb-4d5f-daba-a8e88948347e"
      },
      "source": [
        "# define model\n",
        "model = Sequential()\n",
        "model.add(TimeDistributed(Conv1D(filters=100, kernel_size=5, activation='relu'),\n",
        "                          input_shape=(None, n_steps_in, n_features)))\n",
        "model.add(TimeDistributed(MaxPooling1D(pool_size=10)))\n",
        "model.add(TimeDistributed(Flatten()))\n",
        "model.add((LSTM(100, activation='relu', return_sequences=True,\n",
        "                kernel_regularizer=tf.keras.regularizers.l2(0.001))))\n",
        "# model.add(Dropout(0.1))\n",
        "model.add(Bidirectional(LSTM(100, activation='relu',\n",
        "               kernel_regularizer=tf.keras.regularizers.l2(0.001))))\n",
        "model.add(Dense(50))\n",
        "model.add(Dense(n_steps_out))\n",
        "model.compile(optimizer='adam', loss='mse')\n",
        "model.summary()\n",
        "# fit model\n",
        "model.fit(X, y, epochs=1, verbose=1)"
      ],
      "execution_count": 16,
      "outputs": [
        {
          "output_type": "stream",
          "text": [
            "Model: \"sequential_1\"\n",
            "_________________________________________________________________\n",
            "Layer (type)                 Output Shape              Param #   \n",
            "=================================================================\n",
            "time_distributed_1 (TimeDist (None, None, 1146, 100)   600       \n",
            "_________________________________________________________________\n",
            "time_distributed_2 (TimeDist (None, None, 114, 100)    0         \n",
            "_________________________________________________________________\n",
            "time_distributed_3 (TimeDist (None, None, 11400)       0         \n",
            "_________________________________________________________________\n",
            "lstm_1 (LSTM)                (None, None, 100)         4600400   \n",
            "_________________________________________________________________\n",
            "bidirectional_1 (Bidirection (None, 200)               160800    \n",
            "_________________________________________________________________\n",
            "dense_1 (Dense)              (None, 50)                10050     \n",
            "_________________________________________________________________\n",
            "dense_2 (Dense)              (None, 1150)              58650     \n",
            "=================================================================\n",
            "Total params: 4,830,500\n",
            "Trainable params: 4,830,500\n",
            "Non-trainable params: 0\n",
            "_________________________________________________________________\n",
            "Epoch 1/1\n",
            "147851/147851 [==============================] - 138s 933us/step - loss: 3557.9291\n"
          ],
          "name": "stdout"
        },
        {
          "output_type": "execute_result",
          "data": {
            "text/plain": [
              "<keras.callbacks.callbacks.History at 0x7fc26351cba8>"
            ]
          },
          "metadata": {
            "tags": []
          },
          "execution_count": 16
        }
      ]
    },
    {
      "cell_type": "code",
      "metadata": {
        "id": "wVff-7nulPv2",
        "colab_type": "code",
        "colab": {}
      },
      "source": [
        "# X[0].reshape(1,-1),y[0]"
      ],
      "execution_count": null,
      "outputs": []
    },
    {
      "cell_type": "code",
      "metadata": {
        "id": "NY5e8FfylPzc",
        "colab_type": "code",
        "colab": {
          "base_uri": "https://localhost:8080/",
          "height": 34
        },
        "outputId": "6dfc34b0-8157-40e5-e6e3-814de25d1d4f"
      },
      "source": [
        "X.shape,np.array(x_valid[-n_steps_in:]).shape"
      ],
      "execution_count": 17,
      "outputs": [
        {
          "output_type": "execute_result",
          "data": {
            "text/plain": [
              "((147851, 1, 1150, 1), (1150,))"
            ]
          },
          "metadata": {
            "tags": []
          },
          "execution_count": 17
        }
      ]
    },
    {
      "cell_type": "code",
      "metadata": {
        "id": "feEQJh8vCUof",
        "colab_type": "code",
        "colab": {
          "base_uri": "https://localhost:8080/",
          "height": 34
        },
        "outputId": "12bd9e1a-adab-4c3a-cbbe-3e00eba011ca"
      },
      "source": [
        "len(x_train[-n_steps_in:])"
      ],
      "execution_count": 20,
      "outputs": [
        {
          "output_type": "execute_result",
          "data": {
            "text/plain": [
              "602"
            ]
          },
          "metadata": {
            "tags": []
          },
          "execution_count": 20
        }
      ]
    },
    {
      "cell_type": "code",
      "metadata": {
        "id": "tP5T1S3MlPtL",
        "colab_type": "code",
        "colab": {
          "base_uri": "https://localhost:8080/",
          "height": 34
        },
        "outputId": "f25765d9-bb6c-4465-cc5f-cf30c306f734"
      },
      "source": [
        "#Validation \n",
        "x_input=np.array(x_train[-n_steps_in:]).reshape(1,n_steps_in)\n",
        "x_input = x_input.reshape((x_input.shape[0], n_seq, x_input.shape[1], n_features))\n",
        "yhat = model.predict(x_input, verbose=0)\n",
        "print(yhat.reshape(1,-1))"
      ],
      "execution_count": 22,
      "outputs": [
        {
          "output_type": "stream",
          "text": [
            "[[49.017952 50.513012 55.100853 ... 49.767815 54.3117   51.844906]]\n"
          ],
          "name": "stdout"
        }
      ]
    },
    {
      "cell_type": "code",
      "metadata": {
        "id": "v_0kdhezB73o",
        "colab_type": "code",
        "colab": {
          "base_uri": "https://localhost:8080/",
          "height": 34
        },
        "outputId": "d712b726-269b-415c-9523-d8a9166d0f33"
      },
      "source": [
        "yhat.shape"
      ],
      "execution_count": 23,
      "outputs": [
        {
          "output_type": "execute_result",
          "data": {
            "text/plain": [
              "(1, 1150)"
            ]
          },
          "metadata": {
            "tags": []
          },
          "execution_count": 23
        }
      ]
    },
    {
      "cell_type": "code",
      "metadata": {
        "id": "vT8UESGGvCkk",
        "colab_type": "code",
        "colab": {
          "base_uri": "https://localhost:8080/",
          "height": 265
        },
        "outputId": "88ca7a5e-1c6b-4440-f2b9-56f1d7093c2b"
      },
      "source": [
        "#Validation Check\n",
        "import matplotlib.pyplot as plt\n",
        "# plt.plot([x for x in range(0,500)],x_train,\"g\")\n",
        "plt.plot([x for x in range(1150,2300)],x_valid[-1150:])\n",
        "plt.plot([x for x in range(1150,2300)],yhat[0],\"r\")\n",
        "plt.grid()"
      ],
      "execution_count": 28,
      "outputs": [
        {
          "output_type": "display_data",
          "data": {
            "image/png": "[encoded data removed]",
            "text/plain": [
              "<Figure size 432x288 with 1 Axes>"
            ]
          },
          "metadata": {
            "tags": [],
            "needs_background": "light"
          }
        }
      ]
    },
    {
      "cell_type": "markdown",
      "metadata": {
        "id": "g-d00b32azdu",
        "colab_type": "text"
      },
      "source": [
        "# With 1 epoch it started predicting mean... Cool!"
      ]
    },
    {
      "cell_type": "code",
      "metadata": {
        "id": "xBTU73CisHmy",
        "colab_type": "code",
        "colab": {
          "base_uri": "https://localhost:8080/",
          "height": 34
        },
        "outputId": "4e182be0-e57e-4509-f326-9ba898d649a0"
      },
      "source": [
        "# Real Prediction\n",
        "\n",
        "x_input=np.array(raw_seq[-n_steps_in:]).reshape(1,n_steps_in)\n",
        "x_input = x_input.reshape((x_input.shape[0], n_seq, x_input.shape[1], n_features))\n",
        "yhat = model.predict(x_input, verbose=0)\n",
        "print(yhat.reshape(1,-1))"
      ],
      "execution_count": 29,
      "outputs": [
        {
          "output_type": "stream",
          "text": [
            "[[59.548435 62.77052  68.18003  ... 49.05239  55.623535 53.81018 ]]\n"
          ],
          "name": "stdout"
        }
      ]
    },
    {
      "cell_type": "code",
      "metadata": {
        "id": "T5dSbIMjsHtZ",
        "colab_type": "code",
        "colab": {
          "base_uri": "https://localhost:8080/",
          "height": 265
        },
        "outputId": "ecc404bc-3fe7-4e05-b6f6-6475cf9eff26"
      },
      "source": [
        "#Prediction Visualize\n",
        "import matplotlib.pyplot as plt\n",
        "# plt.plot([x for x in range(500,602)],x_train[500:],\"g\")\n",
        "plt.plot([x for x in range(1150,2300)],x_valid[-1150:])\n",
        "plt.plot([x for x in range(2300,3450)],yhat[0],\"r\")\n",
        "plt.grid()"
      ],
      "execution_count": 30,
      "outputs": [
        {
          "output_type": "display_data",
          "data": {
            "image/png": "[encoded data removed]",
            "text/plain": [
              "<Figure size 432x288 with 1 Axes>"
            ]
          },
          "metadata": {
            "tags": [],
            "needs_background": "light"
          }
        }
      ]
    },
    {
      "cell_type": "code",
      "metadata": {
        "id": "Lp034EJBdJk-",
        "colab_type": "code",
        "colab": {}
      },
      "source": [
        ""
      ],
      "execution_count": null,
      "outputs": []
    },
    {
      "cell_type": "code",
      "metadata": {
        "id": "Gr6EnuuAdJhL",
        "colab_type": "code",
        "colab": {}
      },
      "source": [
        ""
      ],
      "execution_count": null,
      "outputs": []
    }
  ]
}